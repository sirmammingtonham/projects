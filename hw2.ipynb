{
  "nbformat": 4,
  "nbformat_minor": 0,
  "metadata": {
    "colab": {
      "name": "hw2.ipynb",
      "provenance": [],
      "authorship_tag": "ABX9TyO3qVtFzHd7KEo679Q5nwm5",
      "include_colab_link": true
    },
    "kernelspec": {
      "name": "python3",
      "display_name": "Python 3"
    },
    "language_info": {
      "name": "python"
    }
  },
  "cells": [
    {
      "cell_type": "markdown",
      "metadata": {
        "id": "view-in-github",
        "colab_type": "text"
      },
      "source": [
        "<a href=\"https://colab.research.google.com/github/sirmammingtonham/projects/blob/main/hw2.ipynb\" target=\"_parent\"><img src=\"https://colab.research.google.com/assets/colab-badge.svg\" alt=\"Open In Colab\"/></a>"
      ]
    },
    {
      "cell_type": "code",
      "metadata": {
        "id": "njVeWirWxTTc"
      },
      "source": [
        "import pandas as pd\n",
        "import numpy as np\n",
        "from sklearn.model_selection import train_test_split"
      ],
      "execution_count": 6,
      "outputs": []
    },
    {
      "cell_type": "code",
      "metadata": {
        "id": "evdIYZHE0JWl"
      },
      "source": [
        "SEED = 69"
      ],
      "execution_count": 8,
      "outputs": []
    },
    {
      "cell_type": "code",
      "metadata": {
        "id": "AdxOyJBPxhfH"
      },
      "source": [
        "df = pd.read_csv('heart.csv')"
      ],
      "execution_count": 2,
      "outputs": []
    },
    {
      "cell_type": "code",
      "metadata": {
        "colab": {
          "base_uri": "https://localhost:8080/",
          "height": 204
        },
        "id": "j5wCyxXFzF2K",
        "outputId": "7e9c2fe0-d5cb-426c-b106-68ec219f9c3b"
      },
      "source": [
        "df.head()"
      ],
      "execution_count": 3,
      "outputs": [
        {
          "output_type": "execute_result",
          "data": {
            "text/html": [
              "<div>\n",
              "<style scoped>\n",
              "    .dataframe tbody tr th:only-of-type {\n",
              "        vertical-align: middle;\n",
              "    }\n",
              "\n",
              "    .dataframe tbody tr th {\n",
              "        vertical-align: top;\n",
              "    }\n",
              "\n",
              "    .dataframe thead th {\n",
              "        text-align: right;\n",
              "    }\n",
              "</style>\n",
              "<table border=\"1\" class=\"dataframe\">\n",
              "  <thead>\n",
              "    <tr style=\"text-align: right;\">\n",
              "      <th></th>\n",
              "      <th>age</th>\n",
              "      <th>sex</th>\n",
              "      <th>cp</th>\n",
              "      <th>trestbps</th>\n",
              "      <th>chol</th>\n",
              "      <th>fbs</th>\n",
              "      <th>restecg</th>\n",
              "      <th>thalach</th>\n",
              "      <th>exang</th>\n",
              "      <th>oldpeak</th>\n",
              "      <th>slope</th>\n",
              "      <th>ca</th>\n",
              "      <th>thal</th>\n",
              "      <th>target</th>\n",
              "    </tr>\n",
              "  </thead>\n",
              "  <tbody>\n",
              "    <tr>\n",
              "      <th>0</th>\n",
              "      <td>63</td>\n",
              "      <td>1</td>\n",
              "      <td>3</td>\n",
              "      <td>145</td>\n",
              "      <td>233</td>\n",
              "      <td>1</td>\n",
              "      <td>0</td>\n",
              "      <td>150</td>\n",
              "      <td>0</td>\n",
              "      <td>2.3</td>\n",
              "      <td>0</td>\n",
              "      <td>0</td>\n",
              "      <td>1</td>\n",
              "      <td>1</td>\n",
              "    </tr>\n",
              "    <tr>\n",
              "      <th>1</th>\n",
              "      <td>37</td>\n",
              "      <td>1</td>\n",
              "      <td>2</td>\n",
              "      <td>130</td>\n",
              "      <td>250</td>\n",
              "      <td>0</td>\n",
              "      <td>1</td>\n",
              "      <td>187</td>\n",
              "      <td>0</td>\n",
              "      <td>3.5</td>\n",
              "      <td>0</td>\n",
              "      <td>0</td>\n",
              "      <td>2</td>\n",
              "      <td>1</td>\n",
              "    </tr>\n",
              "    <tr>\n",
              "      <th>2</th>\n",
              "      <td>41</td>\n",
              "      <td>0</td>\n",
              "      <td>1</td>\n",
              "      <td>130</td>\n",
              "      <td>204</td>\n",
              "      <td>0</td>\n",
              "      <td>0</td>\n",
              "      <td>172</td>\n",
              "      <td>0</td>\n",
              "      <td>1.4</td>\n",
              "      <td>2</td>\n",
              "      <td>0</td>\n",
              "      <td>2</td>\n",
              "      <td>1</td>\n",
              "    </tr>\n",
              "    <tr>\n",
              "      <th>3</th>\n",
              "      <td>56</td>\n",
              "      <td>1</td>\n",
              "      <td>1</td>\n",
              "      <td>120</td>\n",
              "      <td>236</td>\n",
              "      <td>0</td>\n",
              "      <td>1</td>\n",
              "      <td>178</td>\n",
              "      <td>0</td>\n",
              "      <td>0.8</td>\n",
              "      <td>2</td>\n",
              "      <td>0</td>\n",
              "      <td>2</td>\n",
              "      <td>1</td>\n",
              "    </tr>\n",
              "    <tr>\n",
              "      <th>4</th>\n",
              "      <td>57</td>\n",
              "      <td>0</td>\n",
              "      <td>0</td>\n",
              "      <td>120</td>\n",
              "      <td>354</td>\n",
              "      <td>0</td>\n",
              "      <td>1</td>\n",
              "      <td>163</td>\n",
              "      <td>1</td>\n",
              "      <td>0.6</td>\n",
              "      <td>2</td>\n",
              "      <td>0</td>\n",
              "      <td>2</td>\n",
              "      <td>1</td>\n",
              "    </tr>\n",
              "  </tbody>\n",
              "</table>\n",
              "</div>"
            ],
            "text/plain": [
              "   age  sex  cp  trestbps  chol  fbs  ...  exang  oldpeak  slope  ca  thal  target\n",
              "0   63    1   3       145   233    1  ...      0      2.3      0   0     1       1\n",
              "1   37    1   2       130   250    0  ...      0      3.5      0   0     2       1\n",
              "2   41    0   1       130   204    0  ...      0      1.4      2   0     2       1\n",
              "3   56    1   1       120   236    0  ...      0      0.8      2   0     2       1\n",
              "4   57    0   0       120   354    0  ...      1      0.6      2   0     2       1\n",
              "\n",
              "[5 rows x 14 columns]"
            ]
          },
          "metadata": {},
          "execution_count": 3
        }
      ]
    },
    {
      "cell_type": "code",
      "metadata": {
        "id": "o0CYvOEszsJB"
      },
      "source": [
        "# get data into matrix and do train/test split with 10% to test set\n",
        "X = df.drop('target', axis=1).to_numpy()\n",
        "y = df['target'].to_numpy() \n",
        "\n",
        "X_train, X_test, y_train, y_test = train_test_split(X, y, test_size=0.1, random_state=SEED)"
      ],
      "execution_count": 9,
      "outputs": []
    },
    {
      "cell_type": "markdown",
      "metadata": {
        "id": "7SeomRVrwvy-"
      },
      "source": [
        "# Task 1 (30 points): \n",
        "Implement a Decision Tree Classifier for your classification problem. You\n",
        "may use a built-in package to implement your classifier. Try modifying one or more of the input\n",
        "parameters and describe what changes you notice in your results. Clearly describe how these\n",
        "factors are affecting your output."
      ]
    },
    {
      "cell_type": "code",
      "metadata": {
        "id": "-burzACbxlBK"
      },
      "source": [
        "from sklearn.tree import DecisionTreeClassifier"
      ],
      "execution_count": 10,
      "outputs": []
    },
    {
      "cell_type": "code",
      "metadata": {
        "colab": {
          "base_uri": "https://localhost:8080/"
        },
        "id": "0MPLsxDvz3wW",
        "outputId": "7f2ab5c7-8ddc-4575-ea58-be0a37dcc958"
      },
      "source": [
        "model1 = DecisionTreeClassifier(random_state=SEED)\n",
        "model1.fit(X_train, y_train)"
      ],
      "execution_count": 22,
      "outputs": [
        {
          "output_type": "execute_result",
          "data": {
            "text/plain": [
              "DecisionTreeClassifier(ccp_alpha=0.0, class_weight=None, criterion='gini',\n",
              "                       max_depth=None, max_features=None, max_leaf_nodes=None,\n",
              "                       min_impurity_decrease=0.0, min_impurity_split=None,\n",
              "                       min_samples_leaf=1, min_samples_split=2,\n",
              "                       min_weight_fraction_leaf=0.0, presort='deprecated',\n",
              "                       random_state=69, splitter='best')"
            ]
          },
          "metadata": {},
          "execution_count": 22
        }
      ]
    },
    {
      "cell_type": "code",
      "metadata": {
        "colab": {
          "base_uri": "https://localhost:8080/"
        },
        "id": "9oUexb_j1Dfv",
        "outputId": "5f1602df-28a9-4169-eee2-95e700dad6c3"
      },
      "source": [
        "model1.score(X_train, y_train)"
      ],
      "execution_count": 23,
      "outputs": [
        {
          "output_type": "execute_result",
          "data": {
            "text/plain": [
              "1.0"
            ]
          },
          "metadata": {},
          "execution_count": 23
        }
      ]
    },
    {
      "cell_type": "code",
      "metadata": {
        "colab": {
          "base_uri": "https://localhost:8080/"
        },
        "id": "i7qh5eVT0QWR",
        "outputId": "5017d0e3-e62f-4508-9122-614a7e1e5696"
      },
      "source": [
        "model1.score(X_test, y_test)"
      ],
      "execution_count": 24,
      "outputs": [
        {
          "output_type": "execute_result",
          "data": {
            "text/plain": [
              "0.7419354838709677"
            ]
          },
          "metadata": {},
          "execution_count": 24
        }
      ]
    },
    {
      "cell_type": "code",
      "metadata": {
        "colab": {
          "base_uri": "https://localhost:8080/"
        },
        "id": "FCStOG_T0gp0",
        "outputId": "691504ca-ed6a-49ce-f521-ccaa92bd78cf"
      },
      "source": [
        "model2 = DecisionTreeClassifier(min_samples_split=4, max_features='auto', random_state=SEED)\n",
        "model2.fit(X_train, y_train)"
      ],
      "execution_count": 25,
      "outputs": [
        {
          "output_type": "execute_result",
          "data": {
            "text/plain": [
              "DecisionTreeClassifier(ccp_alpha=0.0, class_weight=None, criterion='gini',\n",
              "                       max_depth=None, max_features='auto', max_leaf_nodes=None,\n",
              "                       min_impurity_decrease=0.0, min_impurity_split=None,\n",
              "                       min_samples_leaf=1, min_samples_split=4,\n",
              "                       min_weight_fraction_leaf=0.0, presort='deprecated',\n",
              "                       random_state=69, splitter='best')"
            ]
          },
          "metadata": {},
          "execution_count": 25
        }
      ]
    },
    {
      "cell_type": "code",
      "metadata": {
        "colab": {
          "base_uri": "https://localhost:8080/"
        },
        "id": "Cq_DHNM81G15",
        "outputId": "8cf2c00a-4303-4a5f-fc1c-c021de29f067"
      },
      "source": [
        "model2.score(X_train, y_train)"
      ],
      "execution_count": 26,
      "outputs": [
        {
          "output_type": "execute_result",
          "data": {
            "text/plain": [
              "0.9705882352941176"
            ]
          },
          "metadata": {},
          "execution_count": 26
        }
      ]
    },
    {
      "cell_type": "code",
      "metadata": {
        "colab": {
          "base_uri": "https://localhost:8080/"
        },
        "id": "GeIaySpN2ZV2",
        "outputId": "26286837-58b5-4c05-ba36-03d10f62381d"
      },
      "source": [
        "model2.score(X_test, y_test)"
      ],
      "execution_count": 27,
      "outputs": [
        {
          "output_type": "execute_result",
          "data": {
            "text/plain": [
              "0.8387096774193549"
            ]
          },
          "metadata": {},
          "execution_count": 27
        }
      ]
    },
    {
      "cell_type": "markdown",
      "metadata": {
        "id": "h_-oP3ta2fij"
      },
      "source": [
        "**ANSWER**: I implemented the decision tree classifier using scikit learn. `model1` uses the default parameters to initialize and train the classifier, while in `model2`, I increase the `min_samples_split` to 4 instead of the default 2, and set `max_features` to 'auto' instead of None, which means the model considers sqrt(n_features) during each split instead of all the features (n_features). \n",
        "\n",
        "I changed these parameters since I noticed that `model1` was overfitting. It achieved perfect accuracy on the training set, which probably meant that it would struggle a bit when generalizing to the test set. To counter this in `model2`, I decreased the number of features to be considered each split to sqrt(n_features) and increased the minimum number of samples per split to 4. Both of these combined prevent the tree from learning relations that might be hyper-specific to the training sample, reducing overfitting. As a result, `model2`'s training accuracy decreased but its test set accuracy actually increased."
      ]
    },
    {
      "cell_type": "markdown",
      "metadata": {
        "id": "Vvc6FEW8xJxz"
      },
      "source": [
        "# Task 2 (30 points): \n",
        "From the Bagging and Boosting methods pick any one algorithm from each\n",
        "category. Implement both the algorithms using the same data. Use k-fold cross validation to\n",
        "find the effectiveness of both the models. Comment on the difference/similarity of the results"
      ]
    },
    {
      "cell_type": "code",
      "metadata": {
        "id": "XjviIqOy4K0M"
      },
      "source": [
        "from sklearn.ensemble import RandomForestClassifier, AdaBoostClassifier\n",
        "from sklearn.model_selection import cross_val_score"
      ],
      "execution_count": 40,
      "outputs": []
    },
    {
      "cell_type": "code",
      "metadata": {
        "id": "LXFlVzZ77DnB"
      },
      "source": [
        "rf_clf = RandomForestClassifier(random_state=SEED)\n",
        "ada_clf = AdaBoostClassifier(random_state=SEED)"
      ],
      "execution_count": 41,
      "outputs": []
    },
    {
      "cell_type": "code",
      "metadata": {
        "id": "92NomwWB8bJD"
      },
      "source": [
        "rf_scores = cross_val_score(rf_clf, X, y, cv=5)\n",
        "ada_scores = cross_val_score(ada_clf, X, y, cv=5)"
      ],
      "execution_count": 42,
      "outputs": []
    },
    {
      "cell_type": "code",
      "metadata": {
        "colab": {
          "base_uri": "https://localhost:8080/"
        },
        "id": "o5tV2Bo98661",
        "outputId": "bd3e2226-0d7b-4aa1-ce49-eb466e42019f"
      },
      "source": [
        "print(f'Random forest: {rf_scores.mean():0.2f} accuracy with a standard deviation of {rf_scores.std():0.2f}')\n",
        "print(f'AdaBoost: {ada_scores.mean():0.2f} accuracy with a standard deviation of {ada_scores.std():0.2f}')"
      ],
      "execution_count": 48,
      "outputs": [
        {
          "output_type": "stream",
          "name": "stdout",
          "text": [
            "Random forest: 0.83 accuracy with a standard deviation of 0.04\n",
            "AdaBoost: 0.79 accuracy with a standard deviation of 0.05\n"
          ]
        }
      ]
    },
    {
      "cell_type": "markdown",
      "metadata": {
        "id": "3IZHJjSN9iM3"
      },
      "source": [
        "**ANSWER** I used 5-fold cross validation to score the mean prediction accuracy on both a random forest classifier for the bagging method, and an adaboost classifier with 1 depth decision trees for the boosting method. \n",
        "\n",
        "Both models performed similarly, however the random forest achieved a higher accuracy of 0.83 with a lower standard deviation of 0.04. However, these results were only with default parameters, and the adaboost might perform better with some hyperparameter tuning."
      ]
    },
    {
      "cell_type": "markdown",
      "metadata": {
        "id": "pW3Xzn5vxM0S"
      },
      "source": [
        "# Task 3 (40 points): \n",
        "Compare the effectiveness of the three models implemented above. Clearly\n",
        "describe the metric you are using for comparison. Describe (with examples) Why is this\n",
        "metric(metrics) suited/appropriate for the problem at hand? How would a choice of a different\n",
        "metric impact your results? Can you demonstrate that?"
      ]
    },
    {
      "cell_type": "code",
      "metadata": {
        "id": "FZE2FJti-h2k"
      },
      "source": [
        "dt_clf = DecisionTreeClassifier(min_samples_split=4, max_features='auto', random_state=SEED)\n",
        "rf_clf = RandomForestClassifier(random_state=SEED)\n",
        "ada_clf = AdaBoostClassifier(random_state=SEED)"
      ],
      "execution_count": 63,
      "outputs": []
    },
    {
      "cell_type": "code",
      "metadata": {
        "id": "qsTnz7VL-rC8"
      },
      "source": [
        "dt_scores = cross_val_score(dt_clf, X, y, cv=5)\n",
        "rf_scores = cross_val_score(rf_clf, X, y, cv=5)\n",
        "ada_scores = cross_val_score(ada_clf, X, y, cv=5)"
      ],
      "execution_count": 72,
      "outputs": []
    },
    {
      "cell_type": "code",
      "metadata": {
        "colab": {
          "base_uri": "https://localhost:8080/"
        },
        "id": "_ESZ0oP0_pYW",
        "outputId": "4d68ceaf-4cec-40bb-bd51-19af3cbbd89a"
      },
      "source": [
        "print(f'Decision tree: {dt_scores.mean()} F1 score with a standard deviation of {dt_scores.std():0.2f}')\n",
        "print(f'Random forest: {rf_scores.mean()} F1 score with a standard deviation of {rf_scores.std():0.2f}')\n",
        "print(f'AdaBoost: {ada_scores.mean()} F1 score with a standard deviation of {ada_scores.std():0.2f}')"
      ],
      "execution_count": 73,
      "outputs": [
        {
          "output_type": "stream",
          "name": "stdout",
          "text": [
            "Decision tree: 0.7095081967213115 F1 score with a standard deviation of 0.04\n",
            "Random forest: 0.8250273224043717 F1 score with a standard deviation of 0.04\n",
            "AdaBoost: 0.7851366120218579 F1 score with a standard deviation of 0.05\n"
          ]
        }
      ]
    },
    {
      "cell_type": "code",
      "metadata": {
        "id": "VukIfgKQAcuL"
      },
      "source": [
        "dt_scores = cross_val_score(dt_clf, X, y, cv=5, scoring='recall')\n",
        "rf_scores = cross_val_score(rf_clf, X, y, cv=5, scoring='recall')\n",
        "ada_scores = cross_val_score(ada_clf, X, y, cv=5, scoring='recall')"
      ],
      "execution_count": 70,
      "outputs": []
    },
    {
      "cell_type": "code",
      "metadata": {
        "colab": {
          "base_uri": "https://localhost:8080/"
        },
        "id": "3srZmBB7AhLY",
        "outputId": "78abec0f-3f13-4511-dddf-53d259a7e34b"
      },
      "source": [
        "print(f'Decision tree: {dt_scores.mean()} recall with a standard deviation of {dt_scores.std():0.2f}')\n",
        "print(f'Random forest: {rf_scores.mean()} recall with a standard deviation of {rf_scores.std():0.2f}')\n",
        "print(f'AdaBoost: {ada_scores.mean()} recall with a standard deviation of {ada_scores.std():0.2f}')"
      ],
      "execution_count": 71,
      "outputs": [
        {
          "output_type": "stream",
          "name": "stdout",
          "text": [
            "Decision tree: 0.709090909090909 recall with a standard deviation of 0.06\n",
            "Random forest: 0.8303030303030303 recall with a standard deviation of 0.04\n",
            "AdaBoost: 0.8303030303030303 recall with a standard deviation of 0.05\n"
          ]
        }
      ]
    },
    {
      "cell_type": "markdown",
      "metadata": {
        "id": "0MwS4UmZ_zpl"
      },
      "source": [
        "**ANSWER** To compare the effectiveness of the three models, I scored each using stratified k fold cross validation with 5 folds. The first metric I used was the F1 score. This is a suitable metric for the problem since I am trying to predict the presence of heart disease given a patient's medical data. F1 score is suitable since it conveys the balance between precision and recall. The precision/recall tradeoff is very important to consider for medical data, since in most cases we don't want to diagnose any false negatives since this may mean a patient actually has heart disease but our model predicted that they don't. But to some, it might be worse if we diagnose a false positive, since this will cause the patient to spend time and money in surgery. If we compare models based on F1 score, we can take both of these factors into consideration.\n",
        "\n",
        "The best model in terms of f1 score is the random forest with a score of 0.82. However, the effectiveness of the models changes when we only consider recall, as evidenced by the recall scores. Here, were can see that both random forest and adaboost achieved the same recall score. This might mean that adaboost has high recall and low precision, which explains why it has a lower f1 score than random forest despite having the same recall. "
      ]
    },
    {
      "cell_type": "code",
      "metadata": {
        "id": "fBrDIUBhCELj"
      },
      "source": [
        ""
      ],
      "execution_count": null,
      "outputs": []
    }
  ]
}